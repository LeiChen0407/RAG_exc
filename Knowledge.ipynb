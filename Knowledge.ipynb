{
 "cells": [
  {
   "cell_type": "markdown",
   "id": "aa0d600a",
   "metadata": {},
   "source": [
    "- 从query进行优化：\n",
    "  - 重塑、拆分、总结等等\n",
    "- index进行优化\n",
    "  - 直接将整个document进行chuck分片处理，注意overLap的使用，能够保持文档内容的连续性，对分片进行embedding,然后跟query的embedding进行相似度匹配进行检索\n",
    "  - 先对文档进行总结，然后再分别embedding，再跟查询的embedding进行相似对匹配，再进行检索回溯到原始文档\n",
    "  - 对文档进行总结聚类，不断重复，直到总结成最后一个类，进行embedding，\n",
    "  - 基于self-reflection/reasoning的检索方式，通过自我反馈进行判断检索的是否合理，如果不合理就再次进行检索"
   ]
  },
  {
   "cell_type": "markdown",
   "id": "7a8d7a8f",
   "metadata": {},
   "source": [
    "### Agent"
   ]
  },
  {
   "cell_type": "markdown",
   "id": "bc15a7a3",
   "metadata": {},
   "source": [
    "用户将消息发送给agent，agent检索所有的tools(本地的函数功能或者MCP Server),agent将tools和用户的消息发送给LLM,由LLM选择使用哪个tool,将调用tool的请求返回给agent,然后agent就使用tool得到相应的信息,然后agent将相应的信息返回给LLM,LLM将对收到的信息进行输出,然后将输出返回给agent,agent输出给用户"
   ]
  },
  {
   "cell_type": "markdown",
   "id": "81e20505",
   "metadata": {},
   "source": [
    "### langgraph"
   ]
  },
  {
   "cell_type": "markdown",
   "id": "28010eab",
   "metadata": {},
   "source": []
  },
  {
   "cell_type": "markdown",
   "id": "1731c7f5",
   "metadata": {},
   "source": [
    "### graphRAG"
   ]
  },
  {
   "cell_type": "markdown",
   "id": "b25af6eb",
   "metadata": {},
   "source": [
    "##### RAG弊端\n",
    "- 传统 RAG 的信息检索是基于独立的文档进行的，这意味着它忽略了信息之间的全局关系和上下文。这会导致生成的文本缺乏深层次的关联性和一致性，尤其在涉及复杂关系推理的任务中效果不佳。（全局问题跟局部片段之间的匹配太低）\n",
    "- chunk太大容易漏掉细节，chunk太小容易失去语义之间的联系\n",
    "\n",
    "##### graphRAG\n",
    "- 使用LLM对Chunk:\n",
    "  - 1.识别实体，例如人、物体、事件等（点）,注意，实体要根据具体的文档，进行具体设置。\n",
    "  - 2.识别实体之间的关系。（边）\n",
    "  - 3.并生成每个实体之间的简要描述。（权重）\n",
    "  - 4.定义一定的大模型输出格式例如：实体1：类型，实体2：类型；实体1->关系1->实体2：关系描述，实体2->关系2->实体3：关系描述，诸如此。 \n",
    "    - 关系描述，会有一定的总结的意思。\n",
    "  - 完成上述操作成为LPG。\n",
    "  - 5.构建完成后，将图又输入给LLM，让其检查是否还有遗漏不足，反复如此，直到LLM认为完美了。该过程称为（Data Gleaning）。\n",
    "  - 6.将相同的实体进行合并（构建全局语义信息）。\n",
    "  - 7.在步骤6实体合并的同时，实体之间的关系以及每个实体之间的描述也会进行合并。\n",
    "  - 8.将实体之间的关系的合并和每个实体之间的描述的合并，发送给LLM，让LLM进行总结描述，将该描述作为最终的关系和关系的描述。合并之后就形成了一个完整的文档级别的知识图谱。（图） >> 底层\n",
    "- 如果文档足够大，将会形成一个非常大的文档级别的知识图谱  >> 底层\n",
    "  - 可以将该知识图谱再次进行总结合并：即将过于复杂的子图（那么怎么才算复杂呢，使用莱顿社区检测方法），将其的实体、实体之间的关系和实体之间的描述，再次发送给LLM，让LLM再次进行总结描述，形成更加抽象的图，循环往复（再次进行总结描述，得到层级2，层级3等等，层级越高信息越抽象），直到不复杂\n",
    "- 然后将实体、实体之间的关系和实体之间的简要描述作为一个chunk，进行embedding,存入向量数据库\n",
    "- 然后将用户的输入进行embedding，进行向量相似度匹配，两种匹配方式：\n",
    "  - 1.local_search:从底层进行匹配,检索到相关的实体、实体之间的关系和每个实体之间的描述，然后层层往上寻找相关信息，将找到的所有信息连同用户的输入一起发送给LLM\n",
    "  - 2.global_search:从最高层进行匹配，层层往下追溯相关信息\n",
    "- 弊端\n",
    "  - 几乎每个步骤都让LLM参与了，非常消耗token"
   ]
  },
  {
   "cell_type": "code",
   "execution_count": null,
   "id": "22ada920",
   "metadata": {
    "vscode": {
     "languageId": "plaintext"
    }
   },
   "outputs": [],
   "source": []
  },
  {
   "cell_type": "code",
   "execution_count": null,
   "id": "52445fb6",
   "metadata": {
    "vscode": {
     "languageId": "plaintext"
    }
   },
   "outputs": [],
   "source": [
    "# LLM提取文档之间的实体、实体之间关系的prompt\n",
    "\n",
    "\"\"\"A file containing prompts definition.\"\"\"\n",
    "\n",
    "GRAPH_EXTRACTION_PROMPT = \"\"\"\n",
    "-Goal-\n",
    "Given a text document that is potentially relevant to this activity and a list of entity types, identify all entities of those types from the text and all relationships among the identified entities.\n",
    " \n",
    "-Steps-\n",
    "1. Identify all entities. For each identified entity, extract the following information:\n",
    "- entity_name: Name of the entity, capitalized\n",
    "- entity_type: One of the following types: [{entity_types}]\n",
    "- entity_description: Comprehensive description of the entity's attributes and activities\n",
    "Format each entity as (\"entity\"{tuple_delimiter}<entity_name>{tuple_delimiter}<entity_type>{tuple_delimiter}<entity_description>)\n",
    " \n",
    "2. From the entities identified in step 1, identify all pairs of (source_entity, target_entity) that are *clearly related* to each other.\n",
    "For each pair of related entities, extract the following information:\n",
    "- source_entity: name of the source entity, as identified in step 1\n",
    "- target_entity: name of the target entity, as identified in step 1\n",
    "- relationship_description: explanation as to why you think the source entity and the target entity are related to each other\n",
    "- relationship_strength: a numeric score indicating strength of the relationship between the source entity and target entity\n",
    " Format each relationship as (\"relationship\"{tuple_delimiter}<source_entity>{tuple_delimiter}<target_entity>{tuple_delimiter}<relationship_description>{tuple_delimiter}<relationship_strength>)\n",
    " \n",
    "3. Return output in English as a single list of all the entities and relationships identified in steps 1 and 2. Use **{record_delimiter}** as the list delimiter.\n",
    " \n",
    "4. When finished, output {completion_delimiter}\n",
    " \n",
    "######################\n",
    "-Examples-\n",
    "######################\n",
    "Example 1:\n",
    "Entity_types: ORGANIZATION,PERSON\n",
    "Text:\n",
    "The Verdantis's Central Institution is scheduled to meet on Monday and Thursday, with the institution planning to release its latest policy decision on Thursday at 1:30 p.m. PDT, followed by a press conference where Central Institution Chair Martin Smith will take questions. Investors expect the Market Strategy Committee to hold its benchmark interest rate steady in a range of 3.5%-3.75%.\n",
    "######################\n",
    "Output:\n",
    "(\"entity\"{tuple_delimiter}CENTRAL INSTITUTION{tuple_delimiter}ORGANIZATION{tuple_delimiter}The Central Institution is the Federal Reserve of Verdantis, which is setting interest rates on Monday and Thursday)\n",
    "{record_delimiter}\n",
    "(\"entity\"{tuple_delimiter}MARTIN SMITH{tuple_delimiter}PERSON{tuple_delimiter}Martin Smith is the chair of the Central Institution)\n",
    "{record_delimiter}\n",
    "(\"entity\"{tuple_delimiter}MARKET STRATEGY COMMITTEE{tuple_delimiter}ORGANIZATION{tuple_delimiter}The Central Institution committee makes key decisions about interest rates and the growth of Verdantis's money supply)\n",
    "{record_delimiter}\n",
    "(\"relationship\"{tuple_delimiter}MARTIN SMITH{tuple_delimiter}CENTRAL INSTITUTION{tuple_delimiter}Martin Smith is the Chair of the Central Institution and will answer questions at a press conference{tuple_delimiter}9)\n",
    "{completion_delimiter}\n",
    "\n",
    "######################\n",
    "Example 2:\n",
    "Entity_types: ORGANIZATION\n",
    "Text:\n",
    "TechGlobal's (TG) stock skyrocketed in its opening day on the Global Exchange Thursday. But IPO experts warn that the semiconductor corporation's debut on the public markets isn't indicative of how other newly listed companies may perform.\n",
    "\n",
    "TechGlobal, a formerly public company, was taken private by Vision Holdings in 2014. The well-established chip designer says it powers 85% of premium smartphones.\n",
    "######################\n",
    "Output:\n",
    "(\"entity\"{tuple_delimiter}TECHGLOBAL{tuple_delimiter}ORGANIZATION{tuple_delimiter}TechGlobal is a stock now listed on the Global Exchange which powers 85% of premium smartphones)\n",
    "{record_delimiter}\n",
    "(\"entity\"{tuple_delimiter}VISION HOLDINGS{tuple_delimiter}ORGANIZATION{tuple_delimiter}Vision Holdings is a firm that previously owned TechGlobal)\n",
    "{record_delimiter}\n",
    "(\"relationship\"{tuple_delimiter}TECHGLOBAL{tuple_delimiter}VISION HOLDINGS{tuple_delimiter}Vision Holdings formerly owned TechGlobal from 2014 until present{tuple_delimiter}5)\n",
    "{completion_delimiter}\n",
    "\n",
    "######################\n",
    "Example 3:\n",
    "Entity_types: ORGANIZATION,GEO,PERSON\n",
    "Text:\n",
    "Five Aurelians jailed for 8 years in Firuzabad and widely regarded as hostages are on their way home to Aurelia.\n",
    "\n",
    "The swap orchestrated by Quintara was finalized when $8bn of Firuzi funds were transferred to financial institutions in Krohaara, the capital of Quintara.\n",
    "\n",
    "The exchange initiated in Firuzabad's capital, Tiruzia, led to the four men and one woman, who are also Firuzi nationals, boarding a chartered flight to Krohaara.\n",
    "\n",
    "They were welcomed by senior Aurelian officials and are now on their way to Aurelia's capital, Cashion.\n",
    "\n",
    "The Aurelians include 39-year-old businessman Samuel Namara, who has been held in Tiruzia's Alhamia Prison, as well as journalist Durke Bataglani, 59, and environmentalist Meggie Tazbah, 53, who also holds Bratinas nationality.\n",
    "######################\n",
    "Output:\n",
    "(\"entity\"{tuple_delimiter}FIRUZABAD{tuple_delimiter}GEO{tuple_delimiter}Firuzabad held Aurelians as hostages)\n",
    "{record_delimiter}\n",
    "(\"entity\"{tuple_delimiter}AURELIA{tuple_delimiter}GEO{tuple_delimiter}Country seeking to release hostages)\n",
    "{record_delimiter}\n",
    "(\"entity\"{tuple_delimiter}QUINTARA{tuple_delimiter}GEO{tuple_delimiter}Country that negotiated a swap of money in exchange for hostages)\n",
    "{record_delimiter}\n",
    "{record_delimiter}\n",
    "(\"entity\"{tuple_delimiter}TIRUZIA{tuple_delimiter}GEO{tuple_delimiter}Capital of Firuzabad where the Aurelians were being held)\n",
    "{record_delimiter}\n",
    "(\"entity\"{tuple_delimiter}KROHAARA{tuple_delimiter}GEO{tuple_delimiter}Capital city in Quintara)\n",
    "{record_delimiter}\n",
    "(\"entity\"{tuple_delimiter}CASHION{tuple_delimiter}GEO{tuple_delimiter}Capital city in Aurelia)\n",
    "{record_delimiter}\n",
    "(\"entity\"{tuple_delimiter}SAMUEL NAMARA{tuple_delimiter}PERSON{tuple_delimiter}Aurelian who spent time in Tiruzia's Alhamia Prison)\n",
    "{record_delimiter}\n",
    "(\"entity\"{tuple_delimiter}ALHAMIA PRISON{tuple_delimiter}GEO{tuple_delimiter}Prison in Tiruzia)\n",
    "{record_delimiter}\n",
    "(\"entity\"{tuple_delimiter}DURKE BATAGLANI{tuple_delimiter}PERSON{tuple_delimiter}Aurelian journalist who was held hostage)\n",
    "{record_delimiter}\n",
    "(\"entity\"{tuple_delimiter}MEGGIE TAZBAH{tuple_delimiter}PERSON{tuple_delimiter}Bratinas national and environmentalist who was held hostage)\n",
    "{record_delimiter}\n",
    "(\"relationship\"{tuple_delimiter}FIRUZABAD{tuple_delimiter}AURELIA{tuple_delimiter}Firuzabad negotiated a hostage exchange with Aurelia{tuple_delimiter}2)\n",
    "{record_delimiter}\n",
    "(\"relationship\"{tuple_delimiter}QUINTARA{tuple_delimiter}AURELIA{tuple_delimiter}Quintara brokered the hostage exchange between Firuzabad and Aurelia{tuple_delimiter}2)\n",
    "{record_delimiter}\n",
    "(\"relationship\"{tuple_delimiter}QUINTARA{tuple_delimiter}FIRUZABAD{tuple_delimiter}Quintara brokered the hostage exchange between Firuzabad and Aurelia{tuple_delimiter}2)\n",
    "{record_delimiter}\n",
    "(\"relationship\"{tuple_delimiter}SAMUEL NAMARA{tuple_delimiter}ALHAMIA PRISON{tuple_delimiter}Samuel Namara was a prisoner at Alhamia prison{tuple_delimiter}8)\n",
    "{record_delimiter}\n",
    "(\"relationship\"{tuple_delimiter}SAMUEL NAMARA{tuple_delimiter}MEGGIE TAZBAH{tuple_delimiter}Samuel Namara and Meggie Tazbah were exchanged in the same hostage release{tuple_delimiter}2)\n",
    "{record_delimiter}\n",
    "(\"relationship\"{tuple_delimiter}SAMUEL NAMARA{tuple_delimiter}DURKE BATAGLANI{tuple_delimiter}Samuel Namara and Durke Bataglani were exchanged in the same hostage release{tuple_delimiter}2)\n",
    "{record_delimiter}\n",
    "(\"relationship\"{tuple_delimiter}MEGGIE TAZBAH{tuple_delimiter}DURKE BATAGLANI{tuple_delimiter}Meggie Tazbah and Durke Bataglani were exchanged in the same hostage release{tuple_delimiter}2)\n",
    "{record_delimiter}\n",
    "(\"relationship\"{tuple_delimiter}SAMUEL NAMARA{tuple_delimiter}FIRUZABAD{tuple_delimiter}Samuel Namara was a hostage in Firuzabad{tuple_delimiter}2)\n",
    "{record_delimiter}\n",
    "(\"relationship\"{tuple_delimiter}MEGGIE TAZBAH{tuple_delimiter}FIRUZABAD{tuple_delimiter}Meggie Tazbah was a hostage in Firuzabad{tuple_delimiter}2)\n",
    "{record_delimiter}\n",
    "(\"relationship\"{tuple_delimiter}DURKE BATAGLANI{tuple_delimiter}FIRUZABAD{tuple_delimiter}Durke Bataglani was a hostage in Firuzabad{tuple_delimiter}2)\n",
    "{completion_delimiter}\n",
    "\n",
    "######################\n",
    "-Real Data-\n",
    "######################\n",
    "Entity_types: {entity_types}\n",
    "Text: {input_text}\n",
    "######################\n",
    "Output:\"\"\"\n",
    "\n",
    "CONTINUE_PROMPT = \"MANY entities and relationships were missed in the last extraction. Remember to ONLY emit entities that match any of the previously extracted types. Add them below using the same format:\\n\"\n",
    "LOOP_PROMPT = \"It appears some entities and relationships may have still been missed. Answer Y if there are still entities or relationships that need to be added, or N if there are none. Please answer with a single letter Y or N.\\n\""
   ]
  },
  {
   "cell_type": "code",
   "execution_count": null,
   "id": "6e7f57f8",
   "metadata": {
    "vscode": {
     "languageId": "plaintext"
    }
   },
   "outputs": [],
   "source": []
  }
 ],
 "metadata": {
  "language_info": {
   "name": "python"
  }
 },
 "nbformat": 4,
 "nbformat_minor": 5
}
